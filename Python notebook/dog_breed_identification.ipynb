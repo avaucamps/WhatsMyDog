{
  "nbformat": 4,
  "nbformat_minor": 0,
  "metadata": {
    "colab": {
      "name": "dog_breed_identification.ipynb",
      "version": "0.3.2",
      "provenance": [],
      "collapsed_sections": []
    },
    "kernelspec": {
      "name": "python3",
      "display_name": "Python 3"
    },
    "accelerator": "GPU"
  },
  "cells": [
    {
      "cell_type": "markdown",
      "metadata": {
        "id": "cjRHOrTqVVF4",
        "colab_type": "text"
      },
      "source": [
        "**Training model for dog breed identifiaction android application**"
      ]
    },
    {
      "cell_type": "markdown",
      "metadata": {
        "id": "Q6C8QGCSTquW",
        "colab_type": "text"
      },
      "source": [
        "First, let's import everything we'll needed."
      ]
    },
    {
      "cell_type": "code",
      "metadata": {
        "id": "bCPQzD5LWoqN",
        "colab_type": "code",
        "colab": {
          "base_uri": "https://localhost:8080/",
          "height": 34
        },
        "outputId": "2c2a63d9-8e72-44e6-970c-bb9e42fd7be3"
      },
      "source": [
        "from google.colab import files\n",
        "import zipfile\n",
        "import tarfile\n",
        "import os\n",
        "import pandas as pd\n",
        "from sklearn.model_selection import train_test_split\n",
        "import numpy as np\n",
        "from IPython.display import display, HTML\n",
        "from keras.preprocessing.image import ImageDataGenerator\n",
        "from keras.layers import Dropout, Flatten, Dense\n",
        "from keras.applications import MobileNetV2, InceptionV3\n",
        "from keras.models import Model, Sequential, load_model\n",
        "from keras.layers import Dense, GlobalAveragePooling2D\n",
        "from keras.callbacks import ModelCheckpoint\n",
        "from keras.models import load_model\n",
        "from keras import optimizers\n",
        "from keras import backend as K\n",
        "import tensorflow as tf"
      ],
      "execution_count": 1,
      "outputs": [
        {
          "output_type": "stream",
          "text": [
            "Using TensorFlow backend.\n"
          ],
          "name": "stderr"
        }
      ]
    },
    {
      "cell_type": "markdown",
      "metadata": {
        "id": "XzdahTunWp_-",
        "colab_type": "text"
      },
      "source": [
        "Then, we import the kaggle.json file, in order to download a dataset in colab."
      ]
    },
    {
      "cell_type": "code",
      "metadata": {
        "id": "l_zw7Ou3VYpj",
        "colab_type": "code",
        "outputId": "00233126-962c-49f0-b0b7-4846b8ebb24d",
        "colab": {
          "resources": {
            "http://localhost:8080/nbextensions/google.colab/files.js": {
              "data": "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",
              "ok": true,
              "headers": [
                [
                  "content-type",
                  "application/javascript"
                ]
              ],
              "status": 200,
              "status_text": ""
            }
          },
          "base_uri": "https://localhost:8080/",
          "height": 91
        }
      },
      "source": [
        "files.upload()"
      ],
      "execution_count": 2,
      "outputs": [
        {
          "output_type": "display_data",
          "data": {
            "text/html": [
              "\n",
              "     <input type=\"file\" id=\"files-0710df94-8e35-4742-bd6b-1ff7b2fa698c\" name=\"files[]\" multiple disabled />\n",
              "     <output id=\"result-0710df94-8e35-4742-bd6b-1ff7b2fa698c\">\n",
              "      Upload widget is only available when the cell has been executed in the\n",
              "      current browser session. Please rerun this cell to enable.\n",
              "      </output>\n",
              "      <script src=\"/nbextensions/google.colab/files.js\"></script> "
            ],
            "text/plain": [
              "<IPython.core.display.HTML object>"
            ]
          },
          "metadata": {
            "tags": []
          }
        },
        {
          "output_type": "stream",
          "text": [
            "Saving kaggle.json to kaggle.json\n"
          ],
          "name": "stdout"
        },
        {
          "output_type": "execute_result",
          "data": {
            "text/plain": [
              "{'kaggle.json': b'{\"username\":\"antoinev10\",\"key\":\"68dbce36bde270219a4043822afb3390\"}'}"
            ]
          },
          "metadata": {
            "tags": []
          },
          "execution_count": 2
        }
      ]
    },
    {
      "cell_type": "markdown",
      "metadata": {
        "id": "Gf4UDwZzUB3q",
        "colab_type": "text"
      },
      "source": [
        "Once the kaggle.json file is imported, we can install kaggle and download the dataset we want (in this case the stanford-dogs-dataset)."
      ]
    },
    {
      "cell_type": "code",
      "metadata": {
        "id": "MCkVtv0YVePu",
        "colab_type": "code",
        "outputId": "46715e72-73bd-41ce-96ed-ca68ccb600c1",
        "colab": {
          "base_uri": "https://localhost:8080/",
          "height": 68
        }
      },
      "source": [
        "!pip install -q kaggle\n",
        "\n",
        "!mkdir -p ~/.kaggle\n",
        "!cp kaggle.json ~/.kaggle/\n",
        "!chmod 600 /root/.kaggle/kaggle.json\n",
        "\n",
        "!kaggle datasets download -d jessicali9530/stanford-dogs-dataset"
      ],
      "execution_count": 3,
      "outputs": [
        {
          "output_type": "stream",
          "text": [
            "Downloading stanford-dogs-dataset.zip to /content\n",
            " 99% 729M/735M [00:08<00:00, 90.7MB/s]\n",
            "100% 735M/735M [00:08<00:00, 91.3MB/s]\n"
          ],
          "name": "stdout"
        }
      ]
    },
    {
      "cell_type": "markdown",
      "metadata": {
        "id": "J34TxEYGVpxm",
        "colab_type": "text"
      },
      "source": [
        "Now that we have the dataset downloaded as a zip file containing images as a tar file, we will extract the dataset. <br>\n",
        "We also rename the image directories. Each directory in the images directory is named after a breed, but there are numbers before the breed's name, so we'll rename the directories to keep just the breed's name."
      ]
    },
    {
      "cell_type": "code",
      "metadata": {
        "id": "TZ5X20liVrs2",
        "colab_type": "code",
        "colab": {}
      },
      "source": [
        "DATASET_FOLDER_PATH = \"dataset\"\n",
        "DATASET_ARCHIVE = \"stanford-dogs-dataset.zip\"\n",
        "IMAGES_ARCHIVE = os.path.join(DATASET_FOLDER_PATH, \"images.tar\")\n",
        "DATA_DIRECTORY = '/content/Images/'\n",
        "\n",
        "!mkdir -p \"dataset\"\n",
        "zip_ref = zipfile.ZipFile(DATASET_ARCHIVE, 'r')\n",
        "zip_ref.extractall(DATASET_FOLDER_PATH)\n",
        "zip_ref.close()\n",
        "\n",
        "tar = tarfile.open(IMAGES_ARCHIVE)\n",
        "tar.extractall()\n",
        "tar.close()\n",
        "\n",
        "for directory_name in os.listdir(DATA_DIRECTORY):\n",
        "  name = directory_name.split(\"-\")\n",
        "  \n",
        "  os.rename(os.path.join(DATA_DIRECTORY, directory_name),\n",
        "           os.path.join(DATA_DIRECTORY, name[1]))"
      ],
      "execution_count": 0,
      "outputs": []
    },
    {
      "cell_type": "markdown",
      "metadata": {
        "id": "voJ4SXmjWFoG",
        "colab_type": "text"
      },
      "source": [
        "Our data is now ready to be loaded. We create two arrays X and y, corresponding respectively to the images filenames and the labels. <br>\n",
        "Then we split our data in a train set and a validation set and create dataframes."
      ]
    },
    {
      "cell_type": "code",
      "metadata": {
        "id": "DRTFyMjqWLam",
        "colab_type": "code",
        "outputId": "a9ccd9ca-35f4-4608-ad54-412b6588a44a",
        "colab": {
          "base_uri": "https://localhost:8080/",
          "height": 425
        }
      },
      "source": [
        "FILENAME_COLUMN = \"filename\"\n",
        "CLASS_COLUMN = \"class\"\n",
        "\n",
        "X = []\n",
        "y = []\n",
        "\n",
        "for directory in os.listdir(DATA_DIRECTORY):\n",
        "  for image in os.listdir(os.path.join(DATA_DIRECTORY, directory)):\n",
        "    X.append(os.path.join(directory, image))\n",
        "    y.append(directory)\n",
        "    \n",
        "X_train, X_valid, y_train, y_valid = train_test_split(X, y, test_size=0.2)\n",
        "\n",
        "train_df = pd.DataFrame(\n",
        "    data={FILENAME_COLUMN: X_train, CLASS_COLUMN:y_train}, \n",
        "    columns=[FILENAME_COLUMN, CLASS_COLUMN]\n",
        ")\n",
        "valid_df = pd.DataFrame(\n",
        "    data={FILENAME_COLUMN: X_valid, CLASS_COLUMN:y_valid}, \n",
        "    columns=[FILENAME_COLUMN, CLASS_COLUMN]\n",
        ")\n",
        "\n",
        "print(\"train\")\n",
        "display(train_df.head())\n",
        "print(\"valid\")\n",
        "display(valid_df.head())"
      ],
      "execution_count": 5,
      "outputs": [
        {
          "output_type": "stream",
          "text": [
            "train\n"
          ],
          "name": "stdout"
        },
        {
          "output_type": "display_data",
          "data": {
            "text/html": [
              "<div>\n",
              "<style scoped>\n",
              "    .dataframe tbody tr th:only-of-type {\n",
              "        vertical-align: middle;\n",
              "    }\n",
              "\n",
              "    .dataframe tbody tr th {\n",
              "        vertical-align: top;\n",
              "    }\n",
              "\n",
              "    .dataframe thead th {\n",
              "        text-align: right;\n",
              "    }\n",
              "</style>\n",
              "<table border=\"1\" class=\"dataframe\">\n",
              "  <thead>\n",
              "    <tr style=\"text-align: right;\">\n",
              "      <th></th>\n",
              "      <th>filename</th>\n",
              "      <th>class</th>\n",
              "    </tr>\n",
              "  </thead>\n",
              "  <tbody>\n",
              "    <tr>\n",
              "      <th>0</th>\n",
              "      <td>Kerry_blue_terrier/n02093859_2787.jpg</td>\n",
              "      <td>Kerry_blue_terrier</td>\n",
              "    </tr>\n",
              "    <tr>\n",
              "      <th>1</th>\n",
              "      <td>Newfoundland/n02111277_1023.jpg</td>\n",
              "      <td>Newfoundland</td>\n",
              "    </tr>\n",
              "    <tr>\n",
              "      <th>2</th>\n",
              "      <td>Irish_wolfhound/n02090721_4326.jpg</td>\n",
              "      <td>Irish_wolfhound</td>\n",
              "    </tr>\n",
              "    <tr>\n",
              "      <th>3</th>\n",
              "      <td>Lakeland_terrier/n02095570_563.jpg</td>\n",
              "      <td>Lakeland_terrier</td>\n",
              "    </tr>\n",
              "    <tr>\n",
              "      <th>4</th>\n",
              "      <td>Rhodesian_ridgeback/n02087394_6993.jpg</td>\n",
              "      <td>Rhodesian_ridgeback</td>\n",
              "    </tr>\n",
              "  </tbody>\n",
              "</table>\n",
              "</div>"
            ],
            "text/plain": [
              "                                 filename                class\n",
              "0   Kerry_blue_terrier/n02093859_2787.jpg   Kerry_blue_terrier\n",
              "1         Newfoundland/n02111277_1023.jpg         Newfoundland\n",
              "2      Irish_wolfhound/n02090721_4326.jpg      Irish_wolfhound\n",
              "3      Lakeland_terrier/n02095570_563.jpg     Lakeland_terrier\n",
              "4  Rhodesian_ridgeback/n02087394_6993.jpg  Rhodesian_ridgeback"
            ]
          },
          "metadata": {
            "tags": []
          }
        },
        {
          "output_type": "stream",
          "text": [
            "valid\n"
          ],
          "name": "stdout"
        },
        {
          "output_type": "display_data",
          "data": {
            "text/html": [
              "<div>\n",
              "<style scoped>\n",
              "    .dataframe tbody tr th:only-of-type {\n",
              "        vertical-align: middle;\n",
              "    }\n",
              "\n",
              "    .dataframe tbody tr th {\n",
              "        vertical-align: top;\n",
              "    }\n",
              "\n",
              "    .dataframe thead th {\n",
              "        text-align: right;\n",
              "    }\n",
              "</style>\n",
              "<table border=\"1\" class=\"dataframe\">\n",
              "  <thead>\n",
              "    <tr style=\"text-align: right;\">\n",
              "      <th></th>\n",
              "      <th>filename</th>\n",
              "      <th>class</th>\n",
              "    </tr>\n",
              "  </thead>\n",
              "  <tbody>\n",
              "    <tr>\n",
              "      <th>0</th>\n",
              "      <td>Pekinese/n02086079_11089.jpg</td>\n",
              "      <td>Pekinese</td>\n",
              "    </tr>\n",
              "    <tr>\n",
              "      <th>1</th>\n",
              "      <td>Norwich_terrier/n02094258_1778.jpg</td>\n",
              "      <td>Norwich_terrier</td>\n",
              "    </tr>\n",
              "    <tr>\n",
              "      <th>2</th>\n",
              "      <td>Staffordshire_bullterrier/n02093256_7577.jpg</td>\n",
              "      <td>Staffordshire_bullterrier</td>\n",
              "    </tr>\n",
              "    <tr>\n",
              "      <th>3</th>\n",
              "      <td>Tibetan_terrier/n02097474_6607.jpg</td>\n",
              "      <td>Tibetan_terrier</td>\n",
              "    </tr>\n",
              "    <tr>\n",
              "      <th>4</th>\n",
              "      <td>toy_terrier/n02087046_7191.jpg</td>\n",
              "      <td>toy_terrier</td>\n",
              "    </tr>\n",
              "  </tbody>\n",
              "</table>\n",
              "</div>"
            ],
            "text/plain": [
              "                                       filename                      class\n",
              "0                  Pekinese/n02086079_11089.jpg                   Pekinese\n",
              "1            Norwich_terrier/n02094258_1778.jpg            Norwich_terrier\n",
              "2  Staffordshire_bullterrier/n02093256_7577.jpg  Staffordshire_bullterrier\n",
              "3            Tibetan_terrier/n02097474_6607.jpg            Tibetan_terrier\n",
              "4                toy_terrier/n02087046_7191.jpg                toy_terrier"
            ]
          },
          "metadata": {
            "tags": []
          }
        }
      ]
    },
    {
      "cell_type": "markdown",
      "metadata": {
        "id": "3qduNPhOWWn7",
        "colab_type": "text"
      },
      "source": [
        "We can now preprocess our data and create generators to feed our model later. <br>\n",
        "We create ```ImageDataGenerator``` instances for the training set and the validation set. When declaring the ```ImageDataGenerator``` instances we define which data augmentation techniques we want to use. <br>\n",
        "Then we use the ```flow_from_dataframe``` method to create our generators with the dataframes we created earlier."
      ]
    },
    {
      "cell_type": "code",
      "metadata": {
        "id": "7kg4OH8RWYDs",
        "colab_type": "code",
        "outputId": "38b3123b-3e61-44d3-ad95-a58e354d5e53",
        "colab": {
          "base_uri": "https://localhost:8080/",
          "height": 51
        }
      },
      "source": [
        "batch_size = 256\n",
        "image_size = 224\n",
        "CLASS_MODE = \"categorical\"\n",
        "\n",
        "train_data_generator = ImageDataGenerator(\n",
        "    rescale = 1. / 255,\n",
        "    rotation_range = 45,\n",
        "    shear_range = 0.2,\n",
        "    zoom_range = 0.2,\n",
        "    horizontal_flip = True,\n",
        "    width_shift_range = 0.1,\n",
        "    height_shift_range = 0.1\n",
        ")\n",
        "\n",
        "validation_data_generator = ImageDataGenerator(\n",
        "    rescale = 1. / 255\n",
        ")\n",
        "\n",
        "train_generator = train_data_generator.flow_from_dataframe(\n",
        "    dataframe = train_df,\n",
        "    directory = DATA_DIRECTORY,\n",
        "    x_col = FILENAME_COLUMN,\n",
        "    y_col = CLASS_COLUMN,\n",
        "    target_size = (image_size, image_size),\n",
        "    batch_size = batch_size,\n",
        "    class_mode = CLASS_MODE\n",
        ")\n",
        "\n",
        "validation_generator = validation_data_generator.flow_from_dataframe(\n",
        "    dataframe = valid_df,\n",
        "    directory = DATA_DIRECTORY,\n",
        "    x_col = FILENAME_COLUMN,\n",
        "    y_col = CLASS_COLUMN,\n",
        "    shuffle = False,\n",
        "    target_size = (image_size, image_size),\n",
        "    batch_size = batch_size,\n",
        "    class_mode = CLASS_MODE\n",
        ")"
      ],
      "execution_count": 9,
      "outputs": [
        {
          "output_type": "stream",
          "text": [
            "Found 16464 images belonging to 120 classes.\n",
            "Found 4116 images belonging to 120 classes.\n"
          ],
          "name": "stdout"
        }
      ]
    },
    {
      "cell_type": "markdown",
      "metadata": {
        "id": "6DaW3etKWdYm",
        "colab_type": "text"
      },
      "source": [
        "We can now define our model. We create a checkpoint to save the model after every epoch if it is the best one until now. <br>\n",
        "Once the model is trained we convert it to a tflite file to use in the android app later."
      ]
    },
    {
      "cell_type": "code",
      "metadata": {
        "id": "pjNLWwCUWec2",
        "colab_type": "code",
        "outputId": "1cee6491-085f-4f58-d8bc-79f7c7a0e275",
        "colab": {
          "base_uri": "https://localhost:8080/",
          "height": 513
        }
      },
      "source": [
        "MODEL_PATH = \"model.h5\"\n",
        "K.clear_session()\n",
        "\n",
        "base_model = MobileNetV2(\n",
        "    weights = 'imagenet',\n",
        "    include_top = False,\n",
        "    input_shape = (224, 224, 3)\n",
        ")\n",
        "\n",
        "x = base_model.output\n",
        "x = GlobalAveragePooling2D()(x)\n",
        "x = Dense(1024, activation='relu')(x)\n",
        "predictions = Dense(120, activation='softmax')(x)\n",
        "\n",
        "model = Model(\n",
        "    inputs = base_model.input,\n",
        "    outputs = predictions\n",
        ")\n",
        "\n",
        "for layer in base_model.layers: layer.trainable = False\n",
        "\n",
        "model.compile(\n",
        "    optimizer = 'adam',\n",
        "    loss = 'categorical_crossentropy',\n",
        "    metrics = ['accuracy']\n",
        ")\n",
        "\n",
        "checkpoint = ModelCheckpoint(\n",
        "    MODEL_PATH,\n",
        "    monitor=\"val_loss\",\n",
        "    verbose=0,\n",
        "    mode='auto'\n",
        ")\n",
        "\n",
        "history = model.fit_generator(\n",
        "    train_generator,\n",
        "    train_generator.n // batch_size,\n",
        "    epochs = 10,\n",
        "    validation_data = validation_generator,\n",
        "    validation_steps = validation_generator.n // batch_size,\n",
        "    callbacks=[checkpoint],\n",
        "    verbose=1\n",
        ")\n",
        "\n",
        "def convert_model_to_tflite():\n",
        "  converter = tf.lite.TFLiteConverter.from_keras_model_file(MODEL_PATH)\n",
        "  tflite_model = converter.convert()\n",
        "  open(\"converted_model.tflite\", \"wb\").write(tflite_model)\n",
        "  \n",
        "convert_model_to_tflite()"
      ],
      "execution_count": 10,
      "outputs": [
        {
          "output_type": "stream",
          "text": [
            "Epoch 1/10\n",
            "64/64 [==============================] - 217s 3s/step - loss: 2.3293 - acc: 0.4352 - val_loss: 1.2015 - val_acc: 0.6577\n",
            "Epoch 2/10\n",
            "64/64 [==============================] - 196s 3s/step - loss: 1.3117 - acc: 0.6298 - val_loss: 1.2525 - val_acc: 0.6541\n",
            "Epoch 3/10\n",
            "64/64 [==============================] - 205s 3s/step - loss: 1.1930 - acc: 0.6541 - val_loss: 1.1115 - val_acc: 0.6915\n",
            "Epoch 4/10\n",
            "64/64 [==============================] - 206s 3s/step - loss: 1.0687 - acc: 0.6886 - val_loss: 1.0903 - val_acc: 0.6922\n",
            "Epoch 5/10\n",
            "64/64 [==============================] - 205s 3s/step - loss: 1.0287 - acc: 0.6961 - val_loss: 1.0997 - val_acc: 0.6969\n",
            "Epoch 6/10\n",
            "64/64 [==============================] - 205s 3s/step - loss: 0.9697 - acc: 0.7169 - val_loss: 1.1415 - val_acc: 0.6870\n",
            "Epoch 7/10\n",
            "64/64 [==============================] - 205s 3s/step - loss: 0.9191 - acc: 0.7250 - val_loss: 1.0674 - val_acc: 0.7083\n",
            "Epoch 8/10\n",
            "64/64 [==============================] - 206s 3s/step - loss: 0.8771 - acc: 0.7354 - val_loss: 1.0977 - val_acc: 0.7054\n",
            "Epoch 9/10\n",
            "64/64 [==============================] - 206s 3s/step - loss: 0.8372 - acc: 0.7508 - val_loss: 1.2065 - val_acc: 0.6837\n",
            "Epoch 10/10\n",
            "64/64 [==============================] - 207s 3s/step - loss: 0.7958 - acc: 0.7591 - val_loss: 1.1529 - val_acc: 0.6946\n",
            "WARNING:tensorflow:From /usr/local/lib/python3.6/dist-packages/tensorflow/lite/python/lite.py:591: convert_variables_to_constants (from tensorflow.python.framework.graph_util_impl) is deprecated and will be removed in a future version.\n",
            "Instructions for updating:\n",
            "Use tf.compat.v1.graph_util.convert_variables_to_constants\n",
            "WARNING:tensorflow:From /usr/local/lib/python3.6/dist-packages/tensorflow/python/framework/graph_util_impl.py:245: extract_sub_graph (from tensorflow.python.framework.graph_util_impl) is deprecated and will be removed in a future version.\n",
            "Instructions for updating:\n",
            "Use tf.compat.v1.graph_util.extract_sub_graph\n",
            "INFO:tensorflow:Froze 264 variables.\n",
            "INFO:tensorflow:Converted 264 variables to const ops.\n"
          ],
          "name": "stdout"
        }
      ]
    },
    {
      "cell_type": "markdown",
      "metadata": {
        "id": "DLErfKi1WxWn",
        "colab_type": "text"
      },
      "source": [
        "Finally we create a text file with all the classes. This will also be used in the android app when running the model."
      ]
    },
    {
      "cell_type": "code",
      "metadata": {
        "id": "NLEBbOV26sHT",
        "colab_type": "code",
        "colab": {}
      },
      "source": [
        "labels = (train_generator.class_indices)\n",
        "\n",
        "f= open(\"labels.txt\",\"w+\")\n",
        "\n",
        "for label, index in labels.items():\n",
        "  f.write(label + \"\\n\")\n",
        "\n",
        "f.close()"
      ],
      "execution_count": 0,
      "outputs": []
    }
  ]
}